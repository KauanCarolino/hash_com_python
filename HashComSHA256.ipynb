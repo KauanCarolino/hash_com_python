{
  "nbformat": 4,
  "nbformat_minor": 0,
  "metadata": {
    "colab": {
      "provenance": [],
      "authorship_tag": "ABX9TyPHIOn0xaiWPz1l0q0ZM0B0",
      "include_colab_link": true
    },
    "kernelspec": {
      "name": "python3",
      "display_name": "Python 3"
    },
    "language_info": {
      "name": "python"
    }
  },
  "cells": [
    {
      "cell_type": "markdown",
      "metadata": {
        "id": "view-in-github",
        "colab_type": "text"
      },
      "source": [
        "<a href=\"https://colab.research.google.com/github/KauanCarolino/hash_com_python/blob/main/HashComSHA256.ipynb\" target=\"_parent\"><img src=\"https://colab.research.google.com/assets/colab-badge.svg\" alt=\"Open In Colab\"/></a>"
      ]
    },
    {
      "cell_type": "code",
      "execution_count": 16,
      "metadata": {
        "colab": {
          "base_uri": "https://localhost:8080/"
        },
        "id": "tPRAhFjPH_cT",
        "outputId": "4861ca7a-ec72-4bdf-dd49-b98639ee2cc7"
      },
      "outputs": [
        {
          "output_type": "stream",
          "name": "stdout",
          "text": [
            "b'Kauan'\n"
          ]
        }
      ],
      "source": [
        "nome = \"Kauan\".encode() #Aqui estou convertendo uma variavel String para uma variavel em Bytes\n",
        "print(nome)"
      ]
    },
    {
      "cell_type": "code",
      "source": [
        "from hashlib import sha256\n",
        "#Criar uma senha, converter ela para bytes e por fim transformar ela em hash hex e bytes\n",
        "\n",
        "senha = \"123456\"\n",
        "\n",
        "senha_hash = sha256(senha.encode()) #Para a criptografia funcioanar, precisa colocar o sha256()\n",
        "                                    #O sha256 só consegue ler valores em bytes\n",
        "                                    #Por isso colocado o .encode()\n",
        "\n",
        "senha_hash_bytes = senha_hash.digest() #.digest() permite eu ver o hash em bytes\n",
        "print(\"Criptografia em Bytes: \",senha_hash_bytes)\n",
        "\n",
        "print(\" \")\n",
        "\n",
        "senha_hash_hex = senha_hash.hexdigest() #.hexdigest() permite ver o hash em hexadecimal\n",
        "print(\"Criptografia em Hexadecimal: \",senha_hash_hex)"
      ],
      "metadata": {
        "id": "knyySKPUJD6n",
        "colab": {
          "base_uri": "https://localhost:8080/"
        },
        "outputId": "7c884a18-f7b8-4448-ca84-6a50d1dce499"
      },
      "execution_count": 28,
      "outputs": [
        {
          "output_type": "stream",
          "name": "stdout",
          "text": [
            "Criptografia em Bytes:  b'\\x8d\\x96\\x9e\\xefn\\xca\\xd3\\xc2\\x9a:b\\x92\\x80\\xe6\\x86\\xcf\\x0c?]Z\\x86\\xaf\\xf3\\xca\\x12\\x02\\x0c\\x92:\\xdcl\\x92'\n",
            " \n",
            "Criptografia em Hexadecimal:  8d969eef6ecad3c29a3a629280e686cf0c3f5d5a86aff3ca12020c923adc6c92\n"
          ]
        }
      ]
    },
    {
      "cell_type": "code",
      "source": [
        "from hashlib import sha256\n",
        "#Criando senha\n",
        "criacao_senha = input(\"Digite sua nova senha: \")\n",
        "criacao_senha_bytes = sha256(criacao_senha.encode())\n",
        "\n",
        "#Para armazenar\n",
        "senha_amazenada = criacao_senha_bytes.hexdigest()\n",
        "print(senha_amazenada)"
      ],
      "metadata": {
        "colab": {
          "base_uri": "https://localhost:8080/"
        },
        "id": "TmuJS2XzLs8O",
        "outputId": "fea194f3-5f33-452c-b63f-e7e1c0955887"
      },
      "execution_count": 29,
      "outputs": [
        {
          "output_type": "stream",
          "name": "stdout",
          "text": [
            "Digite sua nova senha: 123\n",
            "a665a45920422f9d417e4867efdc4fb8a04a1f3fff1fa07e998e86f7f7a27ae3\n"
          ]
        }
      ]
    },
    {
      "cell_type": "markdown",
      "source": [],
      "metadata": {
        "id": "vNWbT8HkiRgc"
      }
    },
    {
      "cell_type": "code",
      "source": [
        "#login\n",
        "senha_login = input(\"Digite sua senha: \")\n",
        "senha_login_hash = sha256(senha_login.encode())\n",
        "\n",
        "if(senha_amazenada == senha_login_hash.hexdigest()): #Só é imprimido sucesso quando os hash batem/igual\n",
        "  print(\"Acesso permitido\")\n",
        "else:\n",
        "  print(\"Acesso negado\")"
      ],
      "metadata": {
        "colab": {
          "base_uri": "https://localhost:8080/"
        },
        "id": "Sb6BWmq2OlKO",
        "outputId": "a49ae42b-9b63-40e1-fd92-9027acd658d8"
      },
      "execution_count": 33,
      "outputs": [
        {
          "output_type": "stream",
          "name": "stdout",
          "text": [
            "Digite sua senha: aaaa\n",
            "Acesso negado\n"
          ]
        }
      ]
    }
  ]
}