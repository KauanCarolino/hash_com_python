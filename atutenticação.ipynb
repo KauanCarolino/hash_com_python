{
  "nbformat": 4,
  "nbformat_minor": 0,
  "metadata": {
    "colab": {
      "provenance": [],
      "authorship_tag": "ABX9TyNK4XWwSkL15K1GYJVPvdqR",
      "include_colab_link": true
    },
    "kernelspec": {
      "name": "python3",
      "display_name": "Python 3"
    },
    "language_info": {
      "name": "python"
    }
  },
  "cells": [
    {
      "cell_type": "markdown",
      "metadata": {
        "id": "view-in-github",
        "colab_type": "text"
      },
      "source": [
        "<a href=\"https://colab.research.google.com/github/KauanCarolino/hash_e_autenticacao_com_python/blob/main/atutentica%C3%A7%C3%A3o.ipynb\" target=\"_parent\"><img src=\"https://colab.research.google.com/assets/colab-badge.svg\" alt=\"Open In Colab\"/></a>"
      ]
    },
    {
      "cell_type": "code",
      "execution_count": 5,
      "metadata": {
        "colab": {
          "base_uri": "https://localhost:8080/",
          "height": 36
        },
        "id": "a6X4BdSiqtRd",
        "outputId": "618959d9-9fb9-45c6-84a3-c6b40ef0a095"
      },
      "outputs": [
        {
          "output_type": "execute_result",
          "data": {
            "text/plain": [
              "'pastel'"
            ],
            "application/vnd.google.colaboratory.intrinsic+json": {
              "type": "string"
            }
          },
          "metadata": {},
          "execution_count": 5
        }
      ],
      "source": [
        "users = { #Aqui estou criando um dicionario\n",
        "    \"kauan\": \"123456\",\n",
        "    \"leticia\": \"pastel\",\n",
        "    \"lili\": \"empada\"\n",
        "}\n",
        "\n",
        "users[\"leticia\"] #aqui estou chamando um usuario e o retorno é sua senha"
      ]
    },
    {
      "cell_type": "code",
      "source": [
        "users = { #Aqui estou criando um dicionario\n",
        "    \"kauan\": \"123456\",\n",
        "    \"leticia\": \"pastel\",\n",
        "    \"lili\": \"empada\"\n",
        "}\n",
        "\n",
        "#Usuario a ser verificado   senha a ser verificada\n",
        "if users[\"kauan\"] == input(\"Digite sua senha: \"): #Aqui estou colocando Kauan como autenticação. Só será impresso sucesso se a senha for digitada corretamente\n",
        "  print(\"Acesso autorizado\")\n",
        "else:\n",
        "  print(\"Acesso bloqueado\")"
      ],
      "metadata": {
        "colab": {
          "base_uri": "https://localhost:8080/"
        },
        "id": "GFDlU7V2rfM2",
        "outputId": "2a318707-6c56-4376-808f-9342401a908b"
      },
      "execution_count": 13,
      "outputs": [
        {
          "output_type": "stream",
          "name": "stdout",
          "text": [
            "Digite sua senha: aaaaaa\n",
            "Acesso bloqueado\n"
          ]
        }
      ]
    },
    {
      "cell_type": "code",
      "source": [
        "users = { #Aqui estou criando um dicionario\n",
        "    \"kauan\": \"123456\",\n",
        "    \"leticia\": \"pastel\",\n",
        "    \"lili\": \"empada\"\n",
        "}\n",
        "\n",
        "#Vamos digital um usuario e o sistema vai verificar se ele existe no dicionario. Se ele existir vai pedir a senha e exibir sucesso se a senha for igual e erro se não. Caso o usuario não exita deve-se exibir uma mensagemd e erro.\n",
        "user_login = input(\"Digite seu Usuario: \").lower().strip()\n",
        "\n",
        "if user_login in users: #Estou verificando se user_login existe dentro de users\n",
        "\n",
        "  if users[user_login] == input(\"Digite sua senha: \"):#Estou verificando se a senha digitada de user_login existe dentro de users\n",
        "    print(\"Acesso autorizado!\")\n",
        "  else:\n",
        "    print(\"Acesso negado\")\n",
        "\n",
        "else:\n",
        "  print(\"Usuario nao existente\")"
      ],
      "metadata": {
        "colab": {
          "base_uri": "https://localhost:8080/"
        },
        "id": "LyRx0vWluEWn",
        "outputId": "adc4bb8b-63e7-47c9-a97a-a36ecd1890d6"
      },
      "execution_count": 19,
      "outputs": [
        {
          "output_type": "stream",
          "name": "stdout",
          "text": [
            "Digite seu Usuario: leticia\n",
            "Digite sua senha: pastel\n",
            "Acesso autorizado!\n"
          ]
        }
      ]
    },
    {
      "cell_type": "code",
      "source": [
        "def autenticacao():\n",
        "  print(\"Autenticacao de Usuario\")\n",
        "  user_login = input(\"Digite seu Usuario: \").lower().strip()\n",
        "\n",
        "  if user_login in users: #Estou verificando se user_login existe dentro de users\n",
        "\n",
        "    if users[user_login] == input(\"Digite sua senha: \"):#Estou verificando se a senha digitada de user_login existe dentro de users\n",
        "      print(\"Acesso autorizado!\")\n",
        "    else:\n",
        "      print(\"Acesso negado\")\n",
        "\n",
        "  else:\n",
        "    print(\"Usuario nao existente\")\n",
        "#autenticacao()\n",
        "\n",
        "print(\" \")\n",
        "\n",
        "def cadastro(): #Função cadastro\n",
        "  print(\"Cadastro de Usuario\")\n",
        "\n",
        "  user_cadastro = input(\"Digite o novo Usuario: \").lower().strip() #Informando o nome do usuario que eu quero casastrar\n",
        "\n",
        "  if user_cadastro in users: #Vai verificar se o nome de usuario ja existe\n",
        "    print(\"Usuario existente\")\n",
        "  else: #Se nao, ele vai pedir par ser digitado a nova senha\n",
        "    senha = input(\"Digite a nova senha: \").strip()\n",
        "    users[user_cadastro] = senha\n",
        "    print(\"Usuario cadastrado com sucesso\")\n",
        "cadastro()\n"
      ],
      "metadata": {
        "colab": {
          "base_uri": "https://localhost:8080/"
        },
        "id": "60PtLKYvyd6b",
        "outputId": "2083502c-a143-4f42-9bdd-a9eed619928f"
      },
      "execution_count": 32,
      "outputs": [
        {
          "output_type": "stream",
          "name": "stdout",
          "text": [
            "Cadastro de Usuario\n",
            "Digite o novo Usuario: tadeu\n",
            "Digite a nova senha: 4002\n",
            "Usuario cadastrado com sucesso\n"
          ]
        }
      ]
    },
    {
      "cell_type": "code",
      "source": [
        "print(users)"
      ],
      "metadata": {
        "colab": {
          "base_uri": "https://localhost:8080/"
        },
        "id": "nFzVMaLU0Ibu",
        "outputId": "52cb9a43-6401-42d9-95b0-c2596bc72dd3"
      },
      "execution_count": 33,
      "outputs": [
        {
          "output_type": "stream",
          "name": "stdout",
          "text": [
            "{'kauan': '123456', 'leticia': 'pastel', 'lili': 'empada', 'tadeu': '4002'}\n"
          ]
        }
      ]
    },
    {
      "cell_type": "code",
      "source": [
        "#Inplementação de tentativas excedidas\n",
        "\n",
        "tentativa_max = 3;\n",
        "\n",
        "def autenticacao():\n",
        "  print(\"Autenticacao de Usuario\")\n",
        "  user_login = input(\"Digite seu Usuario: \").lower().strip()\n",
        "  tentativa = 0\n",
        "\n",
        "  if user_login in users: #Estou verificando se user_login existe dentro de users\n",
        "    while(tentativa < tentativa_max):\n",
        "      if users[user_login] == input(\"Digite sua senha: \"):#Estou verificando se a senha digitada de user_login existe dentro de users\n",
        "        print(\"Acesso autorizado!\")\n",
        "        break\n",
        "      else:\n",
        "        tentativa += 1\n",
        "        restante = tentativa_max - tentativa\n",
        "\n",
        "        if restante > 0:\n",
        "          print(\"usuario ou senha incorreta, tentativas restantes \",restante)\n",
        "        else:\n",
        "          print(\"Numero de tentativas excedidas. Acesso bloqueado!\")\n",
        "          break\n",
        "autenticacao()"
      ],
      "metadata": {
        "colab": {
          "base_uri": "https://localhost:8080/"
        },
        "id": "rwcpTcuY4zHm",
        "outputId": "32441a72-fb46-48a0-dce6-3b6c8d3c2ee6"
      },
      "execution_count": 43,
      "outputs": [
        {
          "output_type": "stream",
          "name": "stdout",
          "text": [
            "Autenticacao de Usuario\n",
            "Digite seu Usuario: lili\n",
            "Digite sua senha: a\n",
            "usuario ou senha incorreta, tentativas restantes  2\n",
            "Digite sua senha: a\n",
            "usuario ou senha incorreta, tentativas restantes  1\n",
            "Digite sua senha: a\n",
            "Numero de tentativas excedidas. Acesso bloqueado!\n"
          ]
        }
      ]
    },
    {
      "cell_type": "code",
      "source": [
        "#Inplementação de verificação de senha\n",
        "\n",
        "def cadastro(): #Função cadastro\n",
        "  print(\"Cadastro de Usuario\")\n",
        "\n",
        "  user_cadastro = input(\"Digite o novo Usuario: \").lower().strip() #Informando o nome do usuario que eu quero casastrar\n",
        "\n",
        "  if user_cadastro in users: #Vai verificar se o nome de usuario ja existe\n",
        "    print(\"Usuario existente\")\n",
        "  else: #Se nao, ele vai pedir par ser digitado a nova senha\n",
        "    senha = input(\"Digite a nova senha: \").strip()\n",
        "    senha_confirmacao = input(\"Digite novamente a senha: \").strip()\n",
        "\n",
        "    if senha == senha_confirmacao:\n",
        "      users[user_cadastro] = senha\n",
        "      print(\"Usuario cadastrado com sucesso\")\n",
        "    else:\n",
        "      print(\"senhas diferentes\")\n",
        "cadastro()\n"
      ],
      "metadata": {
        "colab": {
          "base_uri": "https://localhost:8080/"
        },
        "id": "ZbgPekLp4Iif",
        "outputId": "16971448-d230-4056-f6fc-c1a45233b672"
      },
      "execution_count": 37,
      "outputs": [
        {
          "output_type": "stream",
          "name": "stdout",
          "text": [
            "Cadastro de Usuario\n",
            "Digite o novo Usuario: Joao\n",
            "Digite a nova senha: 456\n",
            "Digite novamente a senha: 456\n",
            "Usuario cadastrado com sucesso\n"
          ]
        }
      ]
    },
    {
      "cell_type": "code",
      "source": [
        "print(users)"
      ],
      "metadata": {
        "colab": {
          "base_uri": "https://localhost:8080/"
        },
        "id": "FTyF8xQZ5GSo",
        "outputId": "dd5603a8-40be-4342-939c-62e44bec3523"
      },
      "execution_count": 38,
      "outputs": [
        {
          "output_type": "stream",
          "name": "stdout",
          "text": [
            "{'kauan': '123456', 'leticia': 'pastel', 'lili': 'empada', 'tadeu': '4002', 'joao': '456'}\n"
          ]
        }
      ]
    },
    {
      "cell_type": "code",
      "source": [
        "#Implemente um menu de seleção\n",
        "\n",
        "opcao = input(\"[1] Autenticacao ou [2] cadastro\")\n",
        "\n",
        "if opcao == \"1\":\n",
        "  tentativa_max = 3;\n",
        "\n",
        "  def autenticacao():\n",
        "    print(\"Autenticacao de Usuario\")\n",
        "    user_login = input(\"Digite seu Usuario: \").lower().strip()\n",
        "    tentativa = 0\n",
        "\n",
        "    if user_login in users:\n",
        "      while(tentativa < tentativa_max):\n",
        "        if users[user_login] == input(\"Digite sua senha: \"):\n",
        "          print(\"Acesso autorizado!\")\n",
        "          break\n",
        "        else:\n",
        "          tentativa += 1\n",
        "          restante = tentativa_max - tentativa\n",
        "\n",
        "          if restante > 0:\n",
        "            print(\"usuario ou senha incorreta, tentativas restantes \",restante)\n",
        "          else:\n",
        "            print(\"Numero de tentativas excedidas. Acesso bloqueado!\")\n",
        "            break\n",
        "  autenticacao()\n",
        "\n",
        "elif opcao == \"2\":\n",
        "  def cadastro():\n",
        "    print(\"Cadastro de Usuario\")\n",
        "\n",
        "    user_cadastro = input(\"Digite o novo Usuario: \").lower().strip()\n",
        "\n",
        "    if user_cadastro in users:\n",
        "      print(\"Usuario existente\")\n",
        "    else:\n",
        "      senha = input(\"Digite a nova senha: \").strip()\n",
        "      senha_confirmacao = input(\"Digite novamente a senha: \").strip()\n",
        "\n",
        "      if senha == senha_confirmacao:\n",
        "        users[user_cadastro] = senha\n",
        "        print(\"Usuario cadastrado com sucesso\")\n",
        "      else:\n",
        "        print(\"senhas diferentes\")\n",
        "  cadastro()\n",
        "\n",
        "else:\n",
        "  print(\"Adeus\")"
      ],
      "metadata": {
        "colab": {
          "base_uri": "https://localhost:8080/"
        },
        "id": "aDNG_5D_8VZS",
        "outputId": "345e9a0e-249a-4e80-b9de-d4b20a7495d2"
      },
      "execution_count": 48,
      "outputs": [
        {
          "output_type": "stream",
          "name": "stdout",
          "text": [
            "[1] Autenticacao ou [2] cadastro1\n",
            "Autenticacao de Usuario\n",
            "Digite seu Usuario: kauan\n",
            "Digite sua senha: 1111\n",
            "usuario ou senha incorreta, tentativas restantes  2\n",
            "Digite sua senha: 1111\n",
            "usuario ou senha incorreta, tentativas restantes  1\n",
            "Digite sua senha: 1111\n",
            "Numero de tentativas excedidas. Acesso bloqueado!\n"
          ]
        }
      ]
    }
  ]
}