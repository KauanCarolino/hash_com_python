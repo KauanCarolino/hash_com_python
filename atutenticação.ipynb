{
  "nbformat": 4,
  "nbformat_minor": 0,
  "metadata": {
    "colab": {
      "provenance": [],
      "authorship_tag": "ABX9TyMbs9oKM1XSS2kC87zBGizJ",
      "include_colab_link": true
    },
    "kernelspec": {
      "name": "python3",
      "display_name": "Python 3"
    },
    "language_info": {
      "name": "python"
    }
  },
  "cells": [
    {
      "cell_type": "markdown",
      "metadata": {
        "id": "view-in-github",
        "colab_type": "text"
      },
      "source": [
        "<a href=\"https://colab.research.google.com/github/KauanCarolino/hash_e_autenticacao_com_python/blob/main/atutentica%C3%A7%C3%A3o.ipynb\" target=\"_parent\"><img src=\"https://colab.research.google.com/assets/colab-badge.svg\" alt=\"Open In Colab\"/></a>"
      ]
    },
    {
      "cell_type": "code",
      "execution_count": 2,
      "metadata": {
        "colab": {
          "base_uri": "https://localhost:8080/",
          "height": 36
        },
        "id": "a6X4BdSiqtRd",
        "outputId": "d1f532f4-f8ae-4e20-d629-eee5fdfcba3f"
      },
      "outputs": [
        {
          "output_type": "execute_result",
          "data": {
            "text/plain": [
              "'cafe'"
            ],
            "application/vnd.google.colaboratory.intrinsic+json": {
              "type": "string"
            }
          },
          "metadata": {},
          "execution_count": 2
        }
      ],
      "source": [
        "users = { #Aqui estou criando um dicionario\n",
        "    \"kauan\": \"123456\",\n",
        "    \"leticia\": \"pastel\",\n",
        "    \"lili\": \"empada\",\n",
        "    \"santiago\": \"cafe\"\n",
        "}\n",
        "\n",
        "users[\"santiago\"] #aqui estou chamando um usuario e o retorno é sua senha"
      ]
    },
    {
      "cell_type": "code",
      "source": [
        "users = { #Aqui estou criando um dicionario\n",
        "    \"kauan\": \"123456\",\n",
        "    \"leticia\": \"pastel\",\n",
        "    \"lili\": \"empada\",\n",
        "    \"santiago\": \"cafe\"\n",
        "}\n",
        "\n",
        "#Usuario a ser verificado   senha a ser verificada\n",
        "if users[\"santiago\"] == input(\"Digite sua senha: \").lower(): #Aqui estou colocando Santiago como autenticação. Só será impresso sucesso se a senha for digitada corretamente\n",
        "  print(\"Acesso autorizado\")\n",
        "else:\n",
        "  print(\"Acesso bloqueado\")"
      ],
      "metadata": {
        "colab": {
          "base_uri": "https://localhost:8080/"
        },
        "id": "GFDlU7V2rfM2",
        "outputId": "b5c94390-9f51-401d-d845-44690317c56e"
      },
      "execution_count": 6,
      "outputs": [
        {
          "output_type": "stream",
          "name": "stdout",
          "text": [
            "Digite sua senha: Cafe\n",
            "Acesso autorizado\n"
          ]
        }
      ]
    },
    {
      "cell_type": "code",
      "source": [
        "users = { #Aqui estou criando um dicionario\n",
        "    \"kauan\": \"123456\",\n",
        "    \"leticia\": \"pastel\",\n",
        "    \"lili\": \"empada\",\n",
        "    \"santiago\": \"cafe\"\n",
        "}\n",
        "\n",
        "#Vamos digital um usuario e o sistema vai verificar se ele existe no dicionario. Se ele existir vai pedir a senha e exibir sucesso se a senha for igual e erro se não. Caso o usuario não exita deve-se exibir uma mensagemd e erro.\n",
        "user_login = input(\"Digite seu Usuario: \").lower().strip()\n",
        "\n",
        "if user_login in users: #Estou verificando se user_login existe dentro de users\n",
        "\n",
        "  if users[user_login] == input(\"Digite sua senha: \"):#Estou verificando se a senha digitada de user_login existe dentro de users\n",
        "    print(\"Acesso autorizado!\")\n",
        "  else:\n",
        "    print(\"Acesso negado\")\n",
        "\n",
        "else:\n",
        "  print(\"Usuario nao existente\")"
      ],
      "metadata": {
        "colab": {
          "base_uri": "https://localhost:8080/"
        },
        "id": "LyRx0vWluEWn",
        "outputId": "de880530-3f1b-458b-c185-6158c7a70324"
      },
      "execution_count": 9,
      "outputs": [
        {
          "output_type": "stream",
          "name": "stdout",
          "text": [
            "Digite seu Usuario: santiago\n",
            "Digite sua senha: cafe\n",
            "Acesso autorizado!\n"
          ]
        }
      ]
    },
    {
      "cell_type": "code",
      "source": [
        "def autenticacao():\n",
        "  print(\"Autenticacao de Usuario\")\n",
        "  user_login = input(\"Digite seu Usuario: \").lower().strip()\n",
        "\n",
        "  if user_login in users: #Estou verificando se user_login existe dentro de users\n",
        "\n",
        "    if users[user_login] == input(\"Digite sua senha: \"):#Estou verificando se a senha digitada de user_login existe dentro de users\n",
        "      print(\"Acesso autorizado!\")\n",
        "    else:\n",
        "      print(\"Acesso negado\")\n",
        "\n",
        "  else:\n",
        "    print(\"Usuario nao existente\")\n",
        "#autenticacao()\n",
        "\n",
        "print(\" \")\n",
        "\n",
        "def cadastro(): #Função cadastro\n",
        "  print(\"Cadastro de Usuario\")\n",
        "\n",
        "  user_cadastro = input(\"Digite o novo Usuario: \").lower().strip() #Informando o nome do usuario que eu quero casastrar\n",
        "\n",
        "  if user_cadastro in users: #Vai verificar se o nome de usuario ja existe\n",
        "    print(\"Usuario existente\")\n",
        "  else: #Se nao, ele vai pedir par ser digitado a nova senha\n",
        "    senha = input(\"Digite a nova senha: \").strip()\n",
        "    users[user_cadastro] = senha\n",
        "    print(\"Usuario cadastrado com sucesso\")\n",
        "cadastro()\n"
      ],
      "metadata": {
        "colab": {
          "base_uri": "https://localhost:8080/"
        },
        "id": "60PtLKYvyd6b",
        "outputId": "598574ac-0902-412e-9c91-6081fddddc79"
      },
      "execution_count": 13,
      "outputs": [
        {
          "output_type": "stream",
          "name": "stdout",
          "text": [
            "Autenticacao de Usuario\n",
            "Digite seu Usuario: Kauan\n",
            "Digite sua senha: 123456\n",
            "Acesso autorizado!\n",
            " \n"
          ]
        }
      ]
    },
    {
      "cell_type": "code",
      "source": [
        "print(users)"
      ],
      "metadata": {
        "colab": {
          "base_uri": "https://localhost:8080/"
        },
        "id": "nFzVMaLU0Ibu",
        "outputId": "b606f806-5141-4b3d-c0bb-a8fb337ad26a"
      },
      "execution_count": 12,
      "outputs": [
        {
          "output_type": "stream",
          "name": "stdout",
          "text": [
            "{'kauan': '123456', 'leticia': 'pastel', 'lili': 'empada', 'santiago': 'cafe', 'tadeu': '0000'}\n"
          ]
        }
      ]
    },
    {
      "cell_type": "code",
      "source": [
        "#Inplementação de tentativas excedidas\n",
        "\n",
        "tentativa_max = 3;\n",
        "\n",
        "def autenticacao():\n",
        "  print(\"Autenticacao de Usuario\")\n",
        "  user_login = input(\"Digite seu Usuario: \").lower().strip()\n",
        "  tentativa = 0\n",
        "\n",
        "  if user_login in users: #Estou verificando se user_login existe dentro de users\n",
        "    while(tentativa < tentativa_max):\n",
        "      if users[user_login] == input(\"Digite sua senha: \"):#Estou verificando se a senha digitada de user_login existe dentro de users\n",
        "        print(\"Acesso autorizado!\")\n",
        "        break\n",
        "      else:\n",
        "        tentativa += 1\n",
        "        restante = tentativa_max - tentativa\n",
        "\n",
        "        if restante > 0:\n",
        "          print(\"usuario ou senha incorreta, tentativas restantes \",restante)\n",
        "        else:\n",
        "          print(\"Numero de tentativas excedidas. Acesso bloqueado!\")\n",
        "          break\n",
        "autenticacao()"
      ],
      "metadata": {
        "id": "rwcpTcuY4zHm"
      },
      "execution_count": null,
      "outputs": []
    },
    {
      "cell_type": "code",
      "source": [
        "#Inplementação de verificação de senha\n",
        "\n",
        "def cadastro(): #Função cadastro\n",
        "  print(\"Cadastro de Usuario\")\n",
        "\n",
        "  user_cadastro = input(\"Digite o novo Usuario: \").lower().strip() #Informando o nome do usuario que eu quero casastrar\n",
        "\n",
        "  if user_cadastro in users: #Vai verificar se o nome de usuario ja existe\n",
        "    print(\"Usuario existente\")\n",
        "  else: #Se nao, ele vai pedir par ser digitado a nova senha\n",
        "    senha = input(\"Digite a nova senha: \").strip()\n",
        "    senha_confirmacao = input(\"Digite novamente a senha: \").strip()\n",
        "\n",
        "    if senha == senha_confirmacao:\n",
        "      users[user_cadastro] = senha\n",
        "      print(\"Usuario cadastrado com sucesso\")\n",
        "    else:\n",
        "      print(\"senhas diferentes\")\n",
        "cadastro()\n"
      ],
      "metadata": {
        "colab": {
          "base_uri": "https://localhost:8080/"
        },
        "id": "ZbgPekLp4Iif",
        "outputId": "b247834d-449c-46bd-f20a-e436f17ad7f9"
      },
      "execution_count": 27,
      "outputs": [
        {
          "output_type": "stream",
          "name": "stdout",
          "text": [
            "Cadastro de Usuario\n",
            "Digite o novo Usuario: Humberto\n",
            "Digite a nova senha: 12\n",
            "Digite novamente a senha: 12\n",
            "Usuario cadastrado com sucesso\n"
          ]
        }
      ]
    },
    {
      "cell_type": "code",
      "source": [
        "print(users)"
      ],
      "metadata": {
        "colab": {
          "base_uri": "https://localhost:8080/"
        },
        "id": "FTyF8xQZ5GSo",
        "outputId": "1e0e542e-ecbc-45c9-8580-5ebd4ece2b44"
      },
      "execution_count": 28,
      "outputs": [
        {
          "output_type": "stream",
          "name": "stdout",
          "text": [
            "{'kauan': '123456', 'leticia': 'pastel', 'lili': 'empada', 'santiago': 'cafe', 'tadeu': '0000', 'humberto': '12'}\n"
          ]
        }
      ]
    },
    {
      "cell_type": "code",
      "source": [
        "#Implemente um menu de seleção\n",
        "\n",
        "opcao = input(\"[1] Autenticacao, [2] Cadastro, [3] Deletar usuario [4] Atualizando usuario: \")\n",
        "\n",
        "if opcao == \"1\":\n",
        "  tentativa_max = 3;\n",
        "\n",
        "  def autenticacao():\n",
        "    print(\"Autenticacao de Usuario\")\n",
        "    user_login = input(\"Digite seu Usuario: \").lower().strip()\n",
        "    tentativa = 0\n",
        "\n",
        "    if user_login in users:\n",
        "      while(tentativa < tentativa_max):\n",
        "        if users[user_login] == input(\"Digite sua senha: \"):\n",
        "          print(\"Acesso autorizado!\")\n",
        "          break\n",
        "        else:\n",
        "          tentativa += 1\n",
        "          restante = tentativa_max - tentativa\n",
        "\n",
        "          if restante > 0:\n",
        "            print(\"usuario ou senha incorreta, tentativas restantes \",restante)\n",
        "          else:\n",
        "            print(\"Numero de tentativas excedidas. Acesso bloqueado!\")\n",
        "            break\n",
        "  autenticacao()\n",
        "\n",
        "elif opcao == \"2\":\n",
        "  def cadastro():\n",
        "    print(\"Cadastro de Usuario\")\n",
        "\n",
        "    user_cadastro = input(\"Digite o novo Usuario: \").lower().strip()\n",
        "\n",
        "    if user_cadastro in users:\n",
        "      print(\"Usuario existente\")\n",
        "    else:\n",
        "      senha = input(\"Digite a nova senha: \").strip()\n",
        "      senha_confirmacao = input(\"Digite novamente a senha: \").strip()\n",
        "\n",
        "      if senha == senha_confirmacao:\n",
        "        users[user_cadastro] = senha\n",
        "        print(\"Usuario cadastrado com sucesso\")\n",
        "      else:\n",
        "        print(\"senhas diferentes\")\n",
        "  cadastro()\n",
        "\n",
        "elif opcao == \"3\":\n",
        "  def deletar():\n",
        "    print(\"Remoção de Usuario\")\n",
        "    user_del = input(\"Qual usuario vc deseja deletar: \").lower().strip()\n",
        "\n",
        "    if user_del in users:\n",
        "      users.pop(user_del)\n",
        "      print(\"Usuario removido com sucesso!\")\n",
        "    else:\n",
        "      print(\"usuario não existente, tente novamente!\")\n",
        "  deletar()\n",
        "\n",
        "elif opcao == \"4\":\n",
        "  def atualizando():\n",
        "    print(\"Atualização de Usuario\")\n",
        "    user = input(\"Qual usuario vc deseja atualizar: \").lower().strip()\n",
        "\n",
        "    if user in users:\n",
        "      user_att = input(\"Qual o novo nome: \").lower().strip()\n",
        "      user_att_pass = input(\"Qual a nova senha: \").lower().strip()\n",
        "\n",
        "\n",
        "    else:\n",
        "      print(\"usuario não existente, tente novamente\")\n",
        "  atualizando()\n",
        "else:\n",
        "  print(\"Adeus\")"
      ],
      "metadata": {
        "colab": {
          "base_uri": "https://localhost:8080/"
        },
        "id": "aDNG_5D_8VZS",
        "outputId": "55dc2e21-56e1-44b8-854c-737381352e76"
      },
      "execution_count": 44,
      "outputs": [
        {
          "name": "stdout",
          "output_type": "stream",
          "text": [
            "[1] Autenticacao, [2] Cadastro, [3] Deletar usuario [4] Atualizando usuario: 4\n",
            "Atualização de Usuario\n",
            "Qual usuario vc deseja atualizar: humberto\n",
            "Qual o novo nome: doisberto\n",
            "Qual a nova senha: 44\n"
          ]
        }
      ]
    },
    {
      "cell_type": "code",
      "source": [
        "print(users)"
      ],
      "metadata": {
        "colab": {
          "base_uri": "https://localhost:8080/"
        },
        "id": "jPkoLioRb6oz",
        "outputId": "2a35e26f-17f9-484c-994b-0ef671f84d9e"
      },
      "execution_count": 45,
      "outputs": [
        {
          "output_type": "stream",
          "name": "stdout",
          "text": [
            "{'kauan': '123456', 'leticia': 'pastel', 'lili': 'empada', 'santiago': 'cafe', 'humberto': '12', 'doisberto': '44'}\n"
          ]
        }
      ]
    }
  ]
}